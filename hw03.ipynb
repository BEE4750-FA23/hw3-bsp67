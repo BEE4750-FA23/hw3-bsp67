{
  "cells": [
    {
      "cell_type": "markdown",
      "metadata": {},
      "source": [
        "# BEE 4750 Homework 3: Uncertain Sea-Level Rise and Levee Reliability\n",
        "\n",
        "**Name**:\n",
        "\n",
        "**ID**:\n",
        "\n",
        "> **Due Date**\n",
        ">\n",
        "> Friday, 10/06/23, 9:00pm\n",
        "\n",
        "## Overview\n",
        "\n",
        "### Instructions\n",
        "\n",
        "This assignment asks you to conduct a Monte Carlo analysis of levee\n",
        "reliability in the face of uncertain changes to local sea levels. You\n",
        "will propagate uncertainty in equilibrium climate sensitivity through\n",
        "the energy balance model to obtain a distribution of temperatures, which\n",
        "will then drive a model of sea-level rise. You will finally use this\n",
        "distribution to assess the probability that a planned levee will achieve\n",
        "its desired reliability standard.\n",
        "\n",
        "### Load Environment\n",
        "\n",
        "The following code loads the environment and makes sure all needed\n",
        "packages are installed. This should be at the start of most Julia\n",
        "scripts."
      ],
      "id": "954dca9f-e787-4c8b-a95e-d2feb70326f6"
    },
    {
      "cell_type": "code",
      "execution_count": 1,
      "metadata": {},
      "outputs": [],
      "source": [
        "import Pkg\n",
        "Pkg.activate(@__DIR__)\n",
        "Pkg.instantiate()"
      ],
      "id": "68ddc507"
    },
    {
      "cell_type": "code",
      "execution_count": 2,
      "metadata": {},
      "outputs": [],
      "source": [
        "using Random\n",
        "using Plots\n",
        "using LaTeXStrings\n",
        "using Distributions\n",
        "using CSV\n",
        "using DataFrames"
      ],
      "id": "b023c0ac"
    },
    {
      "cell_type": "markdown",
      "metadata": {},
      "source": [
        "## Problems (Total: 40 Points)"
      ],
      "id": "e13ee91a-470e-4b3c-a6ab-7b935860c05c"
    },
    {
      "cell_type": "markdown",
      "metadata": {},
      "source": [
        "### Problem 1 (12 points)\n",
        "\n",
        "Recall from class that the simple energy balance model (EBM) of\n",
        "planetary energy balance links changes in radiative forcing ($F$) to\n",
        "global mean temperature ($T$) changes through the discretized equation\n",
        "$$T_{i+1} = T_{i} + \\frac{F_i - \\lambda T_i}{cd} \\times \\Delta t,$$\n",
        "where $i$ is the current time step, $c = 4.184 \\times 10^6$\n",
        "J/K/m<sup>2</sup> is the heat capacity of water per unit area, $d$ is\n",
        "the (uncertain) depth of the mixing layer, $\\Delta t$ is the annual time\n",
        "step in seconds and $\\lambda = F_{\\text{2xCO}_2}/S$ is the climate\n",
        "feedback parameter in W/m<sup>2</sup>/$^\\circ$ C, where $S$ is the\n",
        "equilibrium climate sensitivity (the uncertain equilibrium temperature\n",
        "change resulting from a doubling of atmospheric CO<sub>2</sub>).\n",
        "Finally, while total radiative forcing can be the result of non-aerosol\n",
        "and aerosol effects, we do not know the relative intensity of aerosol\n",
        "forcing, so we represent this with an uncertain aerosol scaling factor\n",
        "$\\alpha$.\n",
        "\n",
        "We can implement this model with the following Julia function. We will\n",
        "assume an ocean mixing depth $d = 100$ m and an aerosol scaling factor\n",
        "$\\alpha = 1.3$ so we can focus on the uncertainty in $S$.\n",
        "\n",
        "The last technical concern is that “global mean temperature” does not\n",
        "make sense in absolute terms as a marker of climate change. Instead, we\n",
        "typically refer to temperature changes relative to some historical\n",
        "pre-industrial baseline. In this case, we will use the period from\n",
        "1880-1900, though this choice can vary."
      ],
      "id": "50be2904-3738-4091-91ef-a73a517be816"
    },
    {
      "cell_type": "code",
      "execution_count": 3,
      "metadata": {},
      "outputs": [
        {
          "output_type": "display_data",
          "metadata": {},
          "data": {
            "text/plain": [
              "energy_balance_model (generic function with 1 method)"
            ]
          }
        }
      ],
      "source": [
        "# we need to split up the aerosol and non-aerosol forcings when we call the function\n",
        "function energy_balance_model(S, forcing_aerosol, forcing_non_aerosol)\n",
        "    d = 100 # ocean mixing depth [m]\n",
        "    α = 1.3 # aerosol scaling factor\n",
        "    F2xCO₂ = 4.0 # radiative forcing [W/m²] for a doubling of CO₂\n",
        "    λ = F2xCO₂/S\n",
        "    \n",
        "    c = 4.184e6 # heat capacity/area [J/K/m²]\n",
        "    C = c*d # heat capacity of mixed layer (per area)\n",
        "\n",
        "    F = forcing_non_aerosol + α*forcing_aerosol # radiative forcing\n",
        "\n",
        "    Δt = 31558152.0 # annual timestep [s]\n",
        "    \n",
        "    T = zero(F)\n",
        "    for i in 1:length(F)-1\n",
        "        T[i+1] = T[i] + (F[i] - λ*T[i])/C * Δt\n",
        "    end\n",
        "    # return temperature anomaly relative to 1880-1900 baseline\n",
        "    return T .- mean(T[1:21]) \n",
        "end"
      ],
      "id": "86f2c810"
    },
    {
      "cell_type": "markdown",
      "metadata": {},
      "source": [
        "Finally, we need to load some radiative forcing data. We will use the\n",
        "radiative forcing scenario RCP 8.5. We can load this data, which is in a\n",
        "`.csv` (comma-delimited) file, into a `DataFrame`, which is a tabular\n",
        "data structure. Rows and columns in a `DataFrame` can be accessed using\n",
        "their numerical index (like a matrix), but columns also have names; you\n",
        "can access a particular column in a dataframe `df` by name using\n",
        "`df.colname` or `df[:, \"colname\"]`.\n",
        "\n",
        "Of note: this data set goes from 1750–2500, so you will need to take\n",
        "care to make sure you are using the right years at each step. For\n",
        "example, here we will constrain the data to 1880–2100, which is the\n",
        "period we are interested in."
      ],
      "id": "41370b64-1e34-4776-a0db-f9d038817630"
    },
    {
      "cell_type": "code",
      "execution_count": 4,
      "metadata": {},
      "outputs": [
        {
          "output_type": "display_data",
          "metadata": {},
          "data": {
            "text/plain": [
              "221-element Vector{Float64}:\n",
              "  0.42741479112315905\n",
              "  0.4487940147601447\n",
              "  0.4900144276528058\n",
              " -0.019811270078689047\n",
              " -1.480725700367619\n",
              " -0.3154905163510021\n",
              "  0.233186559774844\n",
              "  0.2923308952663089\n",
              "  0.45833872365810924\n",
              "  0.5168189581089915\n",
              "  0.4144761329626494\n",
              "  0.2762327724171124\n",
              "  0.48656957869238376\n",
              "  ⋮\n",
              "  9.560222650653953\n",
              "  9.671039126229665\n",
              "  9.772610821460296\n",
              "  9.879065698371564\n",
              "  9.946850640754889\n",
              " 10.002169546141578\n",
              " 10.061009359425011\n",
              " 10.115684195707905\n",
              " 10.182946497594184\n",
              " 10.249699157847772\n",
              " 10.331407709334023\n",
              " 10.424544495740134"
            ]
          }
        }
      ],
      "source": [
        "# The CSV is read into a DataFrame object, and we specify that it is comma delimited\n",
        "forcings_all_85 = CSV.read(\"data/ERF_ssp585_1750-2500.csv\", DataFrame, delim=\",\")\n",
        "\n",
        "# get the years corresponding to the forcings\n",
        "t = Int64.(forcings_all_85[!,\"year\"]) # Ensure that years are interpreted as integers\n",
        "# find the indices of the years 1880 and 2100\n",
        "# we can do this with the indexin function\n",
        "time_bounds = indexin([1880, 2100], t)\n",
        "years = time_bounds[1]:time_bounds[2] # create range of years\n",
        "\n",
        "# Separate out the individual components\n",
        "forcing_co2_85 = forcings_all_85[years,\"co2\"]\n",
        "# Get total aerosol and non-aerosol forcings\n",
        "forcing_aerosol_rad_85 = forcings_all_85[years,\"aerosol-radiation_interactions\"]\n",
        "forcing_aerosol_cloud_85 = forcings_all_85[years,\"aerosol-cloud_interactions\"]\n",
        "forcing_aerosol_85 = forcing_aerosol_rad_85 + forcing_aerosol_cloud_85 # aerosol forcings\n",
        "forcing_total_85 = forcings_all_85[years,\"total\"] \n",
        "forcing_non_aerosol_85 = forcing_total_85 - forcing_aerosol_85 # non-aerosol forcings"
      ],
      "id": "f9529163"
    },
    {
      "cell_type": "markdown",
      "metadata": {},
      "source": [
        "For this assignment, you can use the `forcing_aerosol_85` and\n",
        "`forcing_non_aerosol_85` vectors as is to correspond to the relevant\n",
        "forcings. You will need to use the vector `t` to find the appropriate\n",
        "years for analysis."
      ],
      "id": "e3b3e895-075b-4078-ba89-00e7cd89e04a"
    },
    {
      "cell_type": "markdown",
      "metadata": {},
      "source": [
        "#### Problem 1.1 (3 points)\n",
        "\n",
        "Assume that $S$ is distributed according to\n",
        "$\\text{LogNormal}(\\log(3.2), \\log{2}/3)$ (as in class). Draw 10,000\n",
        "samples from this distribution and make a histogram."
      ],
      "id": "ee1172b8-3a95-42e1-9141-6d109cb56ffe"
    },
    {
      "cell_type": "markdown",
      "metadata": {},
      "source": [
        "#### Problem 1.2 (5 points)\n",
        "\n",
        "Use the EBM to propagate your samples of $S$ to a distribution of global\n",
        "mean temperature. Plot the median and 90% predictive distribution\n",
        "(between the .05 and .95 quantiles) from 1880-2100."
      ],
      "id": "e1be9c68-9deb-4e5a-aa9d-5a92ca408077"
    },
    {
      "cell_type": "markdown",
      "metadata": {},
      "source": [
        "#### Problem 1.3 (4 points)\n",
        "\n",
        "Make a histogram of global mean temperature projections in 2100. If you\n",
        "compare this distribution to the distribution of $S$ from Problem 1.1,\n",
        "what do you observe?"
      ],
      "id": "a2b3d138-0a7e-4862-af82-144625fdca91"
    },
    {
      "cell_type": "markdown",
      "metadata": {},
      "source": [
        "### Problem 2 (15 points)\n",
        "\n",
        "Changes to global temperatures cause changes in global sea levels\n",
        "through several mechanisms, including thermal expansion (the change in\n",
        "ocean volume due to increased heat content) and melting land-based ice.\n",
        "One simple way to represent this link is through the following model,\n",
        "proposed by [Rahmstorf (2007)](https://doi.org/10.1126/science.1135456).\n",
        "\n",
        "$$\\frac{dH}{dt} = a(T-T_0),$$\n",
        "\n",
        "where $H$ is the global mean sea level in mm, $T$ is global mean\n",
        "temperature, $T_0$ is an equilibrium temperature (where there is no\n",
        "change in sea levels), and $a$ is a proportionality constant. This model\n",
        "can be discretized to give $$H_{i+1} - H_i = a (T_i - T_0).$$\n",
        "\n",
        "Note that, like with global mean temperature, the notion of “global mean\n",
        "sea level” does not make sense in absolute terms (were sea levels ever\n",
        "at “zero”?). Instead, we want to normalize this relative to some\n",
        "historical baseline. In this case (with a view towards Problem 3), we\n",
        "will compute our sea levels relative to the 2010 sea level. Note that in\n",
        "addition to the model parameters, we also need an initial sea-level\n",
        "parameter $H_0$ which will give us the right anomaly level.\n",
        "\n",
        "The best estimates for these parameters are:\n",
        "\n",
        "-   $a = 1.86$;\n",
        "-   $H_0 = -223$;\n",
        "-   $T_0 = -0.62$"
      ],
      "id": "fd68b588-3501-4315-bb9e-e3bdfa8f2e68"
    },
    {
      "cell_type": "markdown",
      "metadata": {},
      "source": [
        "#### Problem 2.1 (5 points)\n",
        "\n",
        "Write a function `sea_level_model()` to implement the mathematical\n",
        "sea-level rise model described above. It should take in needed\n",
        "parameters and a vector of temperatures and return a vector of sea\n",
        "levels. To test your function, use the provided temperature series\n",
        "`historical_temps` (read in below) to compute the global mean sea level\n",
        "anomaly in 2022 (the last year of the dataset) with the parameter values\n",
        "above; you should get a value of approximately 43mm."
      ],
      "id": "509320fd-1112-4fb5-a63f-4f88d1060dc7"
    },
    {
      "cell_type": "code",
      "execution_count": 5,
      "metadata": {},
      "outputs": [
        {
          "output_type": "display_data",
          "metadata": {},
          "data": {
            "text/plain": [
              "143-element Vector{Float64}:\n",
              "  0.07297116761904765\n",
              "  0.15655772761904765\n",
              "  0.09327316761904769\n",
              "  0.04232884761904765\n",
              " -0.10351681238095234\n",
              " -0.08232033238095232\n",
              " -0.03210037238095231\n",
              " -0.10998251238095236\n",
              "  0.00942435761904764\n",
              "  0.13890768761904768\n",
              " -0.11805492238095233\n",
              " -0.012511692380952344\n",
              " -0.11875525238095236\n",
              "  ⋮\n",
              "  0.9265009776190476\n",
              "  0.9664103476190478\n",
              "  1.0123786476190477\n",
              "  1.0616748976190478\n",
              "  1.2139176176190476\n",
              "  1.3217303776190477\n",
              "  1.2339774976190476\n",
              "  1.1514572476190477\n",
              "  1.2798758476190477\n",
              "  1.3115970476190477\n",
              "  1.1506591476190478\n",
              "  1.1896871476190476"
            ]
          }
        }
      ],
      "source": [
        "historical_temp_data = CSV.read(\"data/HadCRUT.5.0.1.0.analysis.summary_series.global.annual.csv\", DataFrame, delim=\",\")\n",
        "# column 2 is the temperature anomaly, column 1 is the year\n",
        "temp_bds = indexin([1880, 1900], historical_temp_data[!, 1]) # find the index of 2010 for normalization\n",
        "historical_temp_data[:, 2] .-= mean(historical_temp_data[temp_bds[1]:temp_bds[2], 2])\n",
        "historical_temps = historical_temp_data[temp_bds[1]:end, 2]"
      ],
      "id": "548e403a"
    },
    {
      "cell_type": "markdown",
      "metadata": {},
      "source": [
        "#### Problem 2.2 (5 points)\n",
        "\n",
        "Evaluate `sea_level_model()` using the projected temperature ensemble\n",
        "from Problem 1. Plot the 90% projection interval of the sea levels."
      ],
      "id": "56e6da68-fce3-4e79-9584-8991161f1a60"
    },
    {
      "cell_type": "markdown",
      "metadata": {},
      "source": [
        "#### Problem 2.3 (5 points)\n",
        "\n",
        "Make a histogram of the sea-level anomaly in 2100. What can you observe\n",
        "about how the ECS uncertainty has impacted sea-level uncertainty under\n",
        "this radiative forcing scenario? What might the implications be of only\n",
        "using the best-estimate ECS value?"
      ],
      "id": "6c2f30a6-fd46-4e99-bfd0-23d78e6dd0f7"
    },
    {
      "cell_type": "markdown",
      "metadata": {},
      "source": [
        "### Problem 3 (13 points)\n",
        "\n",
        "You’ve been asked to consult on a levee reliability analysis. For\n",
        "context, levees in the United States are supposed to only fail once in\n",
        "100 years, or, in other words, to have at most a 1% chance of failure in\n",
        "a given year. We will assume for this problem that the only way in which\n",
        "a levee fails is by being overtopped (note: this is unrealistic).\n",
        "\n",
        "We can assess the probability of levee overtopping by comparing its\n",
        "height to a distribution of extreme sea levels. A common approach is to\n",
        "look at the distribution of the highest sea level each year. These\n",
        "extreme sea levels can be obtained by combining the absolute sea level\n",
        "(we will use our distribution of global sea levels for this), the rate\n",
        "of subsidence (how much the ground sinks), and the distribution of storm\n",
        "tides (the highest tide level, which is often the result of storm surges\n",
        "combining with high tide).\n",
        "\n",
        "Assume for this problem that:\n",
        "\n",
        "1.  the annual rate of subsidence $\\nu$ is 1.2mm/yr;\n",
        "2.  the distribution of annual storm tide maxima, above the mean sea\n",
        "    level, is (and is expected to continue to be) given by a\n",
        "    $\\text{GeneralizedExtremeValue}(900, 25, 0.3)$ distribution, which\n",
        "    looks like this:"
      ],
      "id": "15e93050-ab39-4114-86bd-774fea89da13"
    },
    {
      "cell_type": "code",
      "execution_count": 6,
      "metadata": {},
      "outputs": [
        {
          "output_type": "display_data",
          "metadata": {},
          "data": {
            "text/html": [
              "<img src=\"data:image/png;base64,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\" />"
            ]
          }
        }
      ],
      "source": [
        "tide_distribution = GeneralizedExtremeValue(900, 25, 0.3)\n",
        "    histogram(rand(tide_distribution, 10000), xlabel=\"Storm Tide Height (mm)\", ylabel=\"Count\", legend=:false)"
      ],
      "id": "78bf26a0"
    },
    {
      "cell_type": "markdown",
      "metadata": {},
      "source": [
        "Feel free to just sample from `tide_distribution` in your solution\n",
        "below."
      ],
      "id": "450f068c-5e3a-481b-8e41-aa61b7b729a9"
    },
    {
      "cell_type": "markdown",
      "metadata": {},
      "source": [
        "#### Problem 3.1 (2 points)\n",
        "\n",
        "How would you use your sea-level simulations and the above information\n",
        "to compute a distribution of extreme sea levels in 2100 relative to 2010\n",
        "mean sea level? Write down the approach in clear steps, with equations\n",
        "as needed."
      ],
      "id": "11c75ac5-93b6-4564-93af-134917469e27"
    },
    {
      "cell_type": "markdown",
      "metadata": {},
      "source": [
        "#### Problem 3.2 (3 points)\n",
        "\n",
        "Follow the steps above and produce a histogram of the extreme sea levels\n",
        "in 2100 relative to 2010."
      ],
      "id": "64087c65-1384-483d-8b25-9f633d43e1cb"
    },
    {
      "cell_type": "markdown",
      "metadata": {},
      "source": [
        "#### Problem 3.2 (3 points)\n",
        "\n",
        "Follow the steps above and produce a histogram of the extreme sea levels\n",
        "in 2100 relative to 2010."
      ],
      "id": "12b43523-e978-4814-801f-20ed2d1b13f5"
    },
    {
      "cell_type": "markdown",
      "metadata": {},
      "source": [
        "#### Problem 3.4 (3 points)\n",
        "\n",
        "Based on your analysis, would you recommend that the levee be heightened\n",
        "again in the future, and if so, how high? What other information might\n",
        "you need, if any, to make your recommendation?"
      ],
      "id": "ae3b4f5b-3526-4316-9e9c-9db1bbfb9c54"
    },
    {
      "cell_type": "markdown",
      "metadata": {},
      "source": [
        "## References\n",
        "\n",
        "List any external references consulted, including classmates."
      ],
      "id": "3f3afd56-fd9d-4469-bd1f-75b398a7c614"
    }
  ],
  "nbformat": 4,
  "nbformat_minor": 5,
  "metadata": {
    "kernelspec": {
      "name": "julia-1.9",
      "display_name": "Julia 1.9.3",
      "language": "julia"
    },
    "language_info": {
      "name": "julia",
      "file_extension": ".jl",
      "mimetype": "application/julia",
      "version": "1.9.3"
    }
  }
}